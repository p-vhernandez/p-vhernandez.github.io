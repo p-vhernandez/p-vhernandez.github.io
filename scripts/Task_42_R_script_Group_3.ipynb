{
  "nbformat": 4,
  "nbformat_minor": 0,
  "metadata": {
    "colab": {
      "name": "Task 42 R script Group 3.ipynb",
      "provenance": [],
      "collapsed_sections": []
    },
    "kernelspec": {
      "display_name": "R",
      "name": "ir"
    },
    "language_info": {
      "name": "R"
    }
  },
  "cells": [
    {
      "cell_type": "code",
      "metadata": {
        "id": "fkbfUT_NKGC4"
      },
      "source": [
        "install.packages(\"DescTools\", repos = \"http://cran.rstudio.com/\")\n",
        "install.packages(\"psych\", repos = \"http://cran.rstudio.com/\")\n",
        "install.packages(\"MASS\", repos = \"http://cran.rstudio.com/\")"
      ],
      "execution_count": null,
      "outputs": []
    },
    {
      "cell_type": "code",
      "metadata": {
        "id": "dyPZo1_zKukN"
      },
      "source": [
        "library(DescTools)\n",
        "library(psych)\n",
        "library(MASS)\n",
        "\n",
        "# the two different distributions\n",
        "right_dist <- signif(rnorm(250, mean = 10, sd = 1),4)\n",
        "left_dist <- signif(rnorm(250, mean = 13, sd = 1),4)\n",
        "print(\"Right values:\")\n",
        "write.table(right_dist, row.names = FALSE, col.names = FALSE)\n",
        "print(\"######################################################################\")\n",
        "print(\"Left values:\")\n",
        "write.table(left_dist, row.names = FALSE, col.names = FALSE)\n",
        "hist(right_dist)\n",
        "hist(left_dist)\n"
      ],
      "execution_count": null,
      "outputs": []
    }
  ]
}